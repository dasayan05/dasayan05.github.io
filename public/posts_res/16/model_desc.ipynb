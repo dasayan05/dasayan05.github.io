{
 "cells": [
  {
   "cell_type": "code",
   "execution_count": 3,
   "metadata": {},
   "outputs": [],
   "source": [
    "import pyro, torch, numpy as np\n",
    "import pyro.distributions as dist\n",
    "import pyro.optim as optim\n",
    "import pyro.infer as infer\n",
    "import matplotlib.pyplot as plt"
   ]
  },
  {
   "cell_type": "code",
   "execution_count": 4,
   "metadata": {},
   "outputs": [],
   "source": [
    "def model(data): # Take the observation\n",
    "    # Define coin bias as parameter. That's what 'pyro.param' does\n",
    "    rho = pyro.param(\"rho\", # Give it a name for Pyro to track properly\n",
    "        torch.tensor([0.5]), # Initial value\n",
    "        constraint=dist.constraints.unit_interval) # Has to be in [0, 1]\n",
    "    # Define both means and std with random initial values\n",
    "    means = pyro.param(\"M\", torch.tensor([1.5, 3.]))\n",
    "    stds = pyro.param(\"S\", torch.tensor([0.5, 0.5]),\n",
    "        constraint=dist.constraints.positive) # std deviation cannot be negative\n",
    "\n",
    "    with pyro.plate(\"data\", len(data)): # Mark conditional independence\n",
    "        # construct a Bernoulli and sample from it. \n",
    "        c = pyro.sample(\"c\", dist.Bernoulli(rho)) # c \\in {0, 1}\n",
    "        c = c.type(torch.LongTensor)\n",
    "        X = dist.Normal(means[c], stds[c]) # pick a mean as per 'c'\n",
    "        pyro.sample(\"x\", X, obs=data) # sample data (also mark it as observed)"
   ]
  }
 ],
 "metadata": {
  "kernelspec": {
   "display_name": "Python 3",
   "language": "python",
   "name": "python3"
  },
  "language_info": {
   "codemirror_mode": {
    "name": "ipython",
    "version": 3
   },
   "file_extension": ".py",
   "mimetype": "text/x-python",
   "name": "python",
   "nbconvert_exporter": "python",
   "pygments_lexer": "ipython3",
   "version": "3.7.7"
  }
 },
 "nbformat": 4,
 "nbformat_minor": 4
}
