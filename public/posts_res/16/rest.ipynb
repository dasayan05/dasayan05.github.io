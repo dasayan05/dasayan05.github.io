{
 "cells": [
  {
   "cell_type": "markdown",
   "metadata": {},
   "source": [
    "## In Pyro, we define a guide that encodes this"
   ]
  },
  {
   "cell_type": "code",
   "execution_count": 1,
   "metadata": {},
   "outputs": [],
   "source": [
    "def guide(data): # Guide doesn't require data; just need the value of N\n",
    "    with pyro.plate(\"data\", len(data)): # conditional independence\n",
    "        # Define variational parameters \\lambda_i (one for every data point)\n",
    "        lam = pyro.param(\"lam\",\n",
    "            torch.rand(len(data)), # randomly initiallized\n",
    "            constraint=dist.constraints.unit_interval) # \\in [0, 1]\n",
    "        c = pyro.sample(\"c\", # Careful, this name HAS TO BE same to match the model\n",
    "            dist.Bernoulli(lam))"
   ]
  },
  {
   "cell_type": "markdown",
   "metadata": {},
   "source": [
    "## We generate some synthetic data from the following simualator to train our model on"
   ]
  },
  {
   "cell_type": "code",
   "execution_count": 2,
   "metadata": {},
   "outputs": [],
   "source": [
    "def getdata(N, mean1=2.0, mean2=-1.0, std1=0.5, std2=0.5):\n",
    "    D1 = np.random.randn(N//2,) * std1 + mean1\n",
    "    D2 = np.random.randn(N//2,) * std2 + mean2\n",
    "    D = np.concatenate([D1, D2], 0)\n",
    "    np.random.shuffle(D)\n",
    "    return torch.from_numpy(D.astype(np.float32))"
   ]
  },
  {
   "cell_type": "markdown",
   "metadata": {},
   "source": [
    "## Finally, Pyro requires a bit of boilerplate to setup the optimization"
   ]
  },
  {
   "cell_type": "code",
   "execution_count": null,
   "metadata": {},
   "outputs": [],
   "source": [
    "data = getdata(200) # 200 data points\n",
    "pyro.clear_param_store()\n",
    "optim = pyro.optim.Adam({})\n",
    "svi = pyro.infer.SVI(model, guide, optim, infer.Trace_ELBO())\n",
    "\n",
    "for t in range(10000):\n",
    "    svi.step(data)\n"
   ]
  }
 ],
 "metadata": {
  "kernelspec": {
   "display_name": "Python 3",
   "language": "python",
   "name": "python3"
  },
  "language_info": {
   "codemirror_mode": {
    "name": "ipython",
    "version": 3
   },
   "file_extension": ".py",
   "mimetype": "text/x-python",
   "name": "python",
   "nbconvert_exporter": "python",
   "pygments_lexer": "ipython3",
   "version": "3.7.7"
  }
 },
 "nbformat": 4,
 "nbformat_minor": 4
}
